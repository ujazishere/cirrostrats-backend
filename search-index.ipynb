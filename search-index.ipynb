{
 "cells": [
  {
   "cell_type": "code",
   "execution_count": null,
   "id": "2a96d878",
   "metadata": {},
   "outputs": [],
   "source": [
    "# Mechanism to mock test submits in MongoDB with random dates.\n",
    "# the term `test_sic_collection` refers to collection track search and has been refactored to sic collection.\n",
    "from bson import ObjectId\n",
    "from config.database import db_UJ        # UJ mongoDB\n",
    "from datetime import datetime, timedelta\n",
    "from pymongo import UpdateOne\n",
    "import random\n",
    "\n",
    "class MockTestSubmits:\n",
    "    def __init__(self):\n",
    "        self.test_sic_collection = db_UJ['test_st']\n",
    "\n",
    "    def random_date_gen(self, simplify=False, total_dates=5):\n",
    "        def df(dt):\n",
    "            return dt.strftime(\"%m-%d\")\n",
    "\n",
    "        now = datetime.now()  # Get current date and time\n",
    "        dates = []\n",
    "\n",
    "        # Generate dates for the last 3 days (today and the two previous days)\n",
    "        for i in range(3):\n",
    "            date = now - timedelta(days=i)\n",
    "            dates.append(date)\n",
    "\n",
    "        # Randomly select 5 items from these dates (with replacement)\n",
    "        random_items = random.choices(dates, k=random.randint(1, total_dates))\n",
    "        # If simplify is True, format the dates\n",
    "        if simplify:\n",
    "            # Format the dates using your df function\n",
    "            formatted_items = [df(item) for item in random_items]\n",
    "            return formatted_items    \n",
    "        else:\n",
    "            return random_items\n",
    "        # Format the dates using your df function\n",
    "        # formatted_items = [df(item) for item in random_items]\n",
    "        # return formatted_items\n",
    "\n",
    "    def update_operations(self,mdb_set):\n",
    "        test_sic_collection = db_UJ['test_st']   # create/get a collection\n",
    "        doc_ids = list(test_sic_collection.find({},{\"_id\":1}))       # Get limited test document IDs\n",
    "        update_operation = []\n",
    "        for i in doc_ids:\n",
    "            juice = {'submits':self.random_date_gen(simplify=False, total_dates=15)}\n",
    "            # Use this to remove all the submits fields\n",
    "            # Use this to simulate setting the new submits field with mock timestamps\n",
    "            set_ops = {'$set': juice} if mdb_set else {'$unset': {'submits': ''}}\n",
    "            update_operation.append(\n",
    "                UpdateOne(\n",
    "                {\"_id\": ObjectId(i['_id'])},\n",
    "                set_ops\n",
    "            ))\n",
    "        return update_operation\n",
    "\n",
    "    def update_submits(self, mdb_set):\n",
    "        self.test_sic_collection.bulk_write(self.update_operations(mdb_set=mdb_set))\n",
    "\n",
    "    def check_transformed_submits(self):\n",
    "        original = list(self.test_sic_collection.find({'submits': {'$exists': True}},{\"_id\":0,\"ph\":0,\"r_id\":0}))\n",
    "        transformed = [{v1: v2} for d in original for v1, v2 in zip(d.values(), list(d.values())[1:])]\n",
    "        return transformed\n",
    "\n",
    "mts = MockTestSubmits()\n",
    "# mts.update_operations(mdb_set=False)\n",
    "# mts.update_submits(mdb_set=False)"
   ]
  },
  {
   "cell_type": "code",
   "execution_count": 23,
   "id": "b2c1f7fd",
   "metadata": {},
   "outputs": [
    {
     "name": "stdout",
     "output_type": "stream",
     "text": [
      "combs ['ab', 'ac', 'ad', 'ae', 'bc', 'bd', 'be', 'cd', 'ce', 'de']\n",
      "permuts ['ab', 'ac', 'ad', 'ae', 'ba', 'bc', 'bd', 'be', 'ca', 'cb', 'cd', 'ce', 'da', 'db', 'dc', 'de', 'ea', 'eb', 'ec', 'ed']\n",
      "Total combinations: 10 Total permut: 20\n"
     ]
    }
   ],
   "source": [
    "# simulating all combinations of searches on frontend -> backend\n",
    "import itertools\n",
    "import string\n",
    "\n",
    "# Generate all combinations of length 2. numbers are not considered.\n",
    "test_items = 5\n",
    "alphabets = string.ascii_lowercase[:test_items]\n",
    "combinations = [''.join(c) for c in itertools.combinations(alphabets, 2)]\n",
    "permutations = [''.join(p) for p in itertools.permutations(alphabets, 2)]\n",
    "\n",
    "# Combinations would miss some items for example dl is once considered but ld wont be considered\n",
    "    # in permutations however, dl and ld both is considered.\n",
    "    # Another example would be aa  -- `aa` is considered in permutations but is not considered in combinations\n",
    "    # So use permutations instead of combinations.\n",
    "print('combs',combinations)\n",
    "print('permuts',permutations)\n",
    "print(f\"Total combinations: {len(combinations)}\", f\"Total permut: {len(permutations)}\")"
   ]
  },
  {
   "cell_type": "code",
   "execution_count": 1,
   "id": "036e5281",
   "metadata": {},
   "outputs": [],
   "source": [
    "from config.database import db_UJ        # UJ mongoDB\n",
    "# db_UJ.list_collection_names()\n",
    "# og_collection = db_UJ['search_index'] # create/get a collection. if it doesn't exist then make one.\n",
    "test_collection = db_UJ['test_st'] # create/get a collection. if it doesn't exist then make one.\n",
    "find_crit = {}\n",
    "return_crit = {'submits':0}\n",
    "c = list(test_collection.find(find_crit,return_crit).sort('ph',-1))\n"
   ]
  },
  {
   "cell_type": "code",
   "execution_count": 45,
   "id": "3da80ed1",
   "metadata": {},
   "outputs": [],
   "source": [
    "# c"
   ]
  },
  {
   "cell_type": "code",
   "execution_count": 1,
   "id": "ec620153",
   "metadata": {},
   "outputs": [],
   "source": [
    "# # Copy a collection to a new onne\n",
    "# new_collection = 'test_st'  # Replace 'target_collection_name' with your desired target collection name\n",
    "\n",
    "# # Copy the collection\n",
    "# og_collection.aggregate([{'$out': 'test_st'}])\n"
   ]
  },
  {
   "cell_type": "code",
   "execution_count": null,
   "id": "bf5be025",
   "metadata": {},
   "outputs": [],
   "source": [
    "cts_returns =  list(mts.cts.aggregate([\n",
    "        { \"$match\": { \"submits\": { \"$exists\": True} } },\n",
    "        { \"$unwind\": \"$submits\" },\n",
    "        { \"$addFields\": { \"timestamp\": \"$submits\" } },\n",
    "        { \"$unset\": [\"_id\", \"r_id\", \"ph\", \"submits\"] }\n",
    "    ]))"
   ]
  },
  {
   "cell_type": "code",
   "execution_count": null,
   "id": "585aa0c4",
   "metadata": {},
   "outputs": [],
   "source": [
    "list(mts.cts.find({\"submits\": {\"$exists\": True}}))"
   ]
  },
  {
   "cell_type": "code",
   "execution_count": 2,
   "id": "4bf5b6a9",
   "metadata": {},
   "outputs": [
    {
     "name": "stderr",
     "output_type": "stream",
     "text": [
      "C:\\Users\\ujasv\\AppData\\Local\\Packages\\PythonSoftwareFoundation.Python.3.11_qbz5n2kfra8p0\\LocalCache\\local-packages\\Python311\\site-packages\\fuzzywuzzy\\fuzz.py:11: UserWarning: Using slow pure-python SequenceMatcher. Install python-Levenshtein to remove this warning\n",
      "  warnings.warn('Using slow pure-python SequenceMatcher. Install python-Levenshtein to remove this warning')\n"
     ]
    }
   ],
   "source": [
    "from config.database import db_UJ        # UJ mongoDB\n",
    "# Use search interface to find sic items that match query given search index collection docs as 'sic'\n",
    "from routes.root.search.search_interface import SearchInterface\n",
    "from routes.root.search.fuzz_find import fuzz_find\n",
    "from routes.root.search.query_classifier import QueryClassifier\n",
    "\n",
    "search_index_collection = db_UJ['search_index']\n",
    "\n",
    "count_crit = {'ph':{\"$exists\":True}}       # return ones with popularity hits\n",
    "# return_crit = {'ph':0, 'submits':0}       # return only...\n",
    "return_crit = {'submits':0}       # return only...\n",
    "sic = list(search_index_collection.find(count_crit,return_crit).sort('ph',-1))     # Reverse sort\n"
   ]
  },
  {
   "cell_type": "code",
   "execution_count": 25,
   "id": "173f0eb0",
   "metadata": {},
   "outputs": [],
   "source": [
    "qc = QueryClassifier(icao_file_path=\"unique_icao.pkl\")\n",
    "limit = 500\n",
    "query='denv'\n",
    "ff = SearchInterface()\n",
    "formatted_suggestions = ff.search_suggestion_frontned_format(c_docs=sic)\n",
    "sti_items_match_w_query = fuzz_find(query=query, data=formatted_suggestions, qc=qc, limit=limit)\n",
    "\n"
   ]
  },
  {
   "cell_type": "code",
   "execution_count": null,
   "id": "5f206e5c",
   "metadata": {},
   "outputs": [
    {
     "data": {
      "text/plain": [
       "[]"
      ]
     },
     "execution_count": 26,
     "metadata": {},
     "output_type": "execute_result"
    }
   ],
   "source": [
    "# (sti_items_match_w_query)\n",
    "# len(formatted_suggestions)\n"
   ]
  },
  {
   "cell_type": "code",
   "execution_count": null,
   "id": "7082dac1",
   "metadata": {},
   "outputs": [],
   "source": [
    "from routes.route import get_search_suggestions\n",
    "\n",
    "\n",
    "query='den'\n",
    "x = await get_search_suggestions(email='Anonymous',query=query)\n",
    "# x"
   ]
  }
 ],
 "metadata": {
  "kernelspec": {
   "display_name": "Python 3",
   "language": "python",
   "name": "python3"
  },
  "language_info": {
   "codemirror_mode": {
    "name": "ipython",
    "version": 3
   },
   "file_extension": ".py",
   "mimetype": "text/x-python",
   "name": "python",
   "nbconvert_exporter": "python",
   "pygments_lexer": "ipython3",
   "version": "3.11.9"
  }
 },
 "nbformat": 4,
 "nbformat_minor": 5
}
