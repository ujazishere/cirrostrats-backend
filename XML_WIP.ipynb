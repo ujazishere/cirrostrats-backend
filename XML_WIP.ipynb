{
 "cells": [
  {
   "cell_type": "code",
   "execution_count": null,
   "metadata": {},
   "outputs": [],
   "source": [
    "\n",
    "import xml.etree.ElementTree as ET\n",
    "\n",
    "# tree = ET.parse(r'C:\\Users\\ujasv\\OneDrive\\Desktop\\base\\cirrostrats-backend\\routes\\root\\pkl\\messages.log')\n",
    "# root = tree.getroot()\n",
    "\n",
    "# Use iterparse to process the file incrementally\n",
    "context = ET.iterparse(r'C:\\Users\\ujasv\\OneDrive\\Desktop\\base\\cirrostrats-backend\\routes\\root\\pkl\\messages.log', events=('start', 'end'))\n",
    "\n",
    "# Iterate through the XML elements\n",
    "for event, elem in context:\n",
    "    if event == 'start' and elem.tag == 'your_tag_name':\n",
    "        print(f\"Element: {elem.tag}, Text: {elem.text}\")\n",
    "#     # Clear elements from memory to save space\n",
    "#     elem.clear()\n",
    "context\n",
    "\n",
    "\n",
    "\n",
    "\n",
    "\n",
    "\n",
    "\n",
    "\n"
   ]
  }
 ],
 "metadata": {
  "language_info": {
   "name": "python"
  }
 },
 "nbformat": 4,
 "nbformat_minor": 2
}
