{
 "cells": [
  {
   "cell_type": "code",
   "execution_count": null,
   "id": "2a96d878",
   "metadata": {},
   "outputs": [],
   "source": [
    "# Mechanism to mock test submits in MongoDB with random dates.\n",
    "from bson import ObjectId\n",
    "from config.database import db_UJ        # UJ mongoDB\n",
    "from datetime import datetime, timedelta\n",
    "from pymongo import UpdateOne\n",
    "import random\n",
    "\n",
    "class MockTestSubmits:\n",
    "    def __init__(self):\n",
    "        self.cts = db_UJ['test_st']\n",
    "\n",
    "    def random_date_gen(self, simplify=False, total_dates=5):\n",
    "        def df(dt):\n",
    "            return dt.strftime(\"%m-%d\")\n",
    "\n",
    "        now = datetime.now()  # Get current date and time\n",
    "        dates = []\n",
    "\n",
    "        # Generate dates for the last 3 days (today and the two previous days)\n",
    "        for i in range(3):\n",
    "            date = now - timedelta(days=i)\n",
    "            dates.append(date)\n",
    "\n",
    "        # Randomly select 5 items from these dates (with replacement)\n",
    "        random_items = random.choices(dates, k=random.randint(1, total_dates))\n",
    "        # If simplify is True, format the dates\n",
    "        if simplify:\n",
    "            # Format the dates using your df function\n",
    "            formatted_items = [df(item) for item in random_items]\n",
    "            return formatted_items    \n",
    "        else:\n",
    "            return random_items\n",
    "        # Format the dates using your df function\n",
    "        # formatted_items = [df(item) for item in random_items]\n",
    "        # return formatted_items\n",
    "\n",
    "    def update_operations(self,mdb_set):\n",
    "        cts = db_UJ['test_st']   # create/get a collection\n",
    "        doc_ids = list(cts.find({},{\"_id\":1}))       # Get limited test document IDs\n",
    "        update_operation = []\n",
    "        for i in doc_ids:\n",
    "            juice = {'submits':self.random_date_gen(simplify=False, total_dates=15)}\n",
    "            # Use this to remove all the submits fields\n",
    "            # Use this to simulate setting the new submits field with mock timestamps\n",
    "            set_ops = {'$set': juice} if mdb_set else {'$unset': {'submits': ''}}\n",
    "            update_operation.append(\n",
    "                UpdateOne(\n",
    "                {\"_id\": ObjectId(i['_id'])},\n",
    "                set_ops\n",
    "            ))\n",
    "        return update_operation\n",
    "\n",
    "    def update_submits(self, mdb_set):\n",
    "        self.cts.bulk_write(self.update_operations(mdb_set=mdb_set))\n",
    "\n",
    "    def check_transformed_submits(self):\n",
    "        original = list(self.cts.find({'submits': {'$exists': True}},{\"_id\":0,\"ph\":0,\"r_id\":0}))\n",
    "        transformed = [{v1: v2} for d in original for v1, v2 in zip(d.values(), list(d.values())[1:])]\n",
    "        return transformed"
   ]
  },
  {
   "cell_type": "code",
   "execution_count": 12,
   "id": "2b9361c1",
   "metadata": {},
   "outputs": [
    {
     "name": "stderr",
     "output_type": "stream",
     "text": [
      "c:\\Users\\ujasv\\OneDrive\\Desktop\\base\\cirrostrats-backend\\venv\\Lib\\site-packages\\fuzzywuzzy\\fuzz.py:11: UserWarning: Using slow pure-python SequenceMatcher. Install python-Levenshtein to remove this warning\n",
      "  warnings.warn('Using slow pure-python SequenceMatcher. Install python-Levenshtein to remove this warning')\n"
     ]
    },
    {
     "data": {
      "text/plain": [
       "<re.Match object; span=(0, 6), match='N12377'>"
      ]
     },
     "execution_count": 12,
     "metadata": {},
     "output_type": "execute_result"
    }
   ],
   "source": [
    "import re\n",
    "\n",
    "from routes.route import flight_aware_w_auth\n",
    "n_pattern = re.compile(\"^N[a-zA-Z0-9]{5}$\")\n",
    "n_pattern.match('N12377')\n",
    "\n",
    "# flight_aware_w_auth()"
   ]
  },
  {
   "cell_type": "code",
   "execution_count": 20,
   "id": "15af6f17",
   "metadata": {},
   "outputs": [],
   "source": [
    "# from routes.route import raw_search_handler\n",
    "# x = await raw_search_handler('N63323')\n",
    "\n",
    "from routes.root.dep_des import Pull_flight_info\n",
    "from routes.root.flight_deets_pre_processor import response_filter\n",
    "from routes.root.root_class import Fetching_Mechanism, Source_links_and_api\n",
    "\n",
    "\n",
    "async def flight_aware_w_auth(flight_number):\n",
    "    fm = Fetching_Mechanism(flt_num=flight_number)\n",
    "    sl = Source_links_and_api()\n",
    "    flt_info = Pull_flight_info()\n",
    "\n",
    "    # link = sl.aviation_stack(flight_number)\n",
    "    link = sl.flight_aware_w_auth(flight_number)\n",
    "    resp_dict: dict = await fm.async_pull([link])\n",
    "    resp = response_filter(resp_dict, \"json\",)\n",
    "    fa_return = resp['flights']\n",
    "    flight_aware_data = flt_info.fa_data_pull(pre_process=fa_return)\n",
    "\n",
    "    # Accounted for gate through flight aware. gives terminal and gate as separate key value pairs.\n",
    "    return flight_aware_data\n"
   ]
  },
  {
   "cell_type": "code",
   "execution_count": 22,
   "id": "6b50cc98",
   "metadata": {},
   "outputs": [
    {
     "name": "stdout",
     "output_type": "stream",
     "text": [
      "null_flightaware_attrs\n",
      "Received flight aware data as pre_process\n",
      "null_flightaware_attrs\n"
     ]
    },
    {
     "data": {
      "text/plain": [
       "{'fa_ident_icao': 'GJS4558',\n",
       " 'fa_origin': 'KGSO',\n",
       " 'fa_destination': 'KEWR',\n",
       " 'fa_registration': 'N551GJ',\n",
       " 'fa_date_out': '20250606',\n",
       " 'fa_scheduled_out': '1530Z',\n",
       " 'fa_estimated_out': '1530Z',\n",
       " 'fa_scheduled_in': '1721Z',\n",
       " 'fa_estimated_in': '1655Z',\n",
       " 'fa_terminal_origin': None,\n",
       " 'fa_terminal_destination': 'C',\n",
       " 'fa_gate_origin': None,\n",
       " 'fa_gate_destination': None,\n",
       " 'fa_filed_altitude': 'FL350',\n",
       " 'fa_filed_ete': 4200,\n",
       " 'fa_route': 'QUAK8 SBV CREWE QUART PHLBO4',\n",
       " 'fa_sv': 'https://skyvector.com/?fpl=%20KGSO%20QUAK8%20SBV%20CREWE%20QUART%20PHLBO4%20KEWR'}"
      ]
     },
     "execution_count": 22,
     "metadata": {},
     "output_type": "execute_result"
    }
   ],
   "source": [
    "x = await flight_aware_w_auth('UAL4558')\n",
    "# x = await flight_aware_w_auth('N787MG')\n",
    "x"
   ]
  },
  {
   "cell_type": "code",
   "execution_count": 41,
   "id": "16805c54",
   "metadata": {},
   "outputs": [
    {
     "data": {
      "text/plain": [
       "{'nas_departure_affected': {'Ground Delay': {'Departure': 'KDEN',\n",
       "   'Reason': 'thunderstorms',\n",
       "   'Average Delay': '48 minutes',\n",
       "   'Maximum Delay': '1 hour and 46 minutes'}},\n",
       " 'nas_destination_affected': {'Ground Delay': {'Departure': 'KDEN',\n",
       "   'Reason': 'thunderstorms',\n",
       "   'Average Delay': '48 minutes',\n",
       "   'Maximum Delay': '1 hour and 46 minutes'}},\n",
       " 'dep_weather': {'D-ATIS': 'DEN ARR INFO L 1953Z. 27025G33KT 10SM FEW080 SCT130 SCT200 01/M19 A2955 (TWO NINER FIVE FIVE) RMK AO2 PK WND 29040/1933 SLP040. LLWS ADZYS IN EFCT. HAZUS WX INFO FOR CO, KS, NE, WY AVBL FM FLT SVC. PIREP 30 SW DEN, 2005Z B58T RPRTD MDT-SVR, TB, BTN 14THSD AND 10 THSD DURD. PIREP DEN AREA,, 1929Z PC24 RPRTD MDT, TB, BTN AND FL 190 DURD. EXPC ILS, RNAV, OR VISUAL APCH, SIMUL APCHS IN USE, RWY 25, RWY 26. NOTICE TO AIR MISSION. S C DEICE PAD CLOSED. DEN DME OTS. BIRD ACTIVITY VICINITY ARPT. ...ADVS YOU HAVE INFO L.',\n",
       "  'METAR': 'KDEN 012054Z 16004KT 1/2SM R05L/P6000FT BR OVC004 08/08 A2978 RMK AO2 SFC VIS 3 SLP085 T00830078 56006',\n",
       "  'TAF': 'KRIC 022355Z 0300/0324 00000KT 2SM BR VCSH FEW015 OVC060 TEMPO 0300/0303 1 1/2SM FG BKN015\\n    FM030300 00000KT 1SM -SHRA FG OVC002\\n    FM031300 19005KT 3/4SM BR OVC004\\n    FM031500 23008KT 1/26SM OVC005\\n    FM031800 25010KT 1/4SM OVC015\\n    FM032100 25010KT M1/4SM BKN040'},\n",
       " 'dest_weather': {'D-ATIS': 'DEN ARR INFO L 1953Z. 27025G33KT 10SM FEW080 SCT130 SCT200 01/M19 A2955 (TWO NINER FIVE FIVE) RMK AO2 PK WND 29040/1933 SLP040. LLWS ADZYS IN EFCT. HAZUS WX INFO FOR CO, KS, NE, WY AVBL FM FLT SVC. PIREP 30 SW DEN, 2005Z B58T RPRTD MDT-SVR, TB, BTN 14THSD AND 10 THSD DURD. PIREP DEN AREA,, 1929Z PC24 RPRTD MDT, TB, BTN AND FL 190 DURD. EXPC ILS, RNAV, OR VISUAL APCH, SIMUL APCHS IN USE, RWY 25, RWY 26. NOTICE TO AIR MISSION. S C DEICE PAD CLOSED. DEN DME OTS. BIRD ACTIVITY VICINITY ARPT. ...ADVS YOU HAVE INFO L.',\n",
       "  'METAR': 'KDEN 012054Z 16004KT 1/2SM R05L/P6000FT BR OVC004 08/08 A2978 RMK AO2 SFC VIS 3 SLP085 T00830078 56006',\n",
       "  'TAF': 'KRIC 022355Z 0300/0324 00000KT 2SM BR VCSH FEW015 OVC060 TEMPO 0300/0303 1 1/2SM FG BKN015\\n    FM030300 00000KT 1SM -SHRA FG OVC002\\n    FM031300 19005KT 3/4SM BR OVC004\\n    FM031500 23008KT 1/26SM OVC005\\n    FM031800 25010KT 1/4SM OVC015\\n    FM032100 25010KT M1/4SM BKN040'},\n",
       " 'scheduled_out': '2244Z',\n",
       " 'estimated_out': '2244Z',\n",
       " 'scheduled_in': '0041Z',\n",
       " 'estimated_in': '0041Z',\n",
       " 'sv': 'https://skyvector.com/?fpl=%20KMEM%20CHLDR5%20ANSWA%20LIT%20J180%20SWB%20ZEEKK2%20KIAH'}"
      ]
     },
     "execution_count": 41,
     "metadata": {},
     "output_type": "execute_result"
    }
   ],
   "source": [
    "from pathlib import Path\n",
    "import pickle\n",
    "\n",
    "\n",
    "def getting_the_path_right(f_name):\n",
    "    \n",
    "    currentWorking = Path.cwd()\n",
    "    file_path = currentWorking / f_name\n",
    "    \n",
    "    return file_path\n",
    "\n",
    "bulk_flight_deets_path = getting_the_path_right(r\"mockTestDataFull.pkl\")\n",
    "# bulk_flight_deets_path = getting_the_path_right(r\"example_flight_deet_full_packet.pkl\")       # Old legacy Django\n",
    "\n",
    "bulk_flight_deets = pickle.load(open(bulk_flight_deets_path, 'rb'))\n",
    "flightStatsMock = {}\n",
    "newbfd = {}\n",
    "flightViewMock = {}\n",
    "jms_STDDS_clearance = {\n",
    "    \"towerAircraftID\": \"UAL2480\",\n",
    "    \"timestamp\": \"2025-05-10T15:10:03.243000\",\n",
    "    \"destinationAirport\": \"KSFO\",\n",
    "    \"clearance\": \"003 UAL2480\\t7737\\tKLAX A320/L\\tP1540 239\\t280 KLAX SUMMR2 STOKD SERFR SERFR4 KSFO             CLEARED SUMMR2 DEPARTURE STOKD TRSN   CLB VIA SID EXC MAINT 5000FT EXP 280 5 MIN AFT DP,DPFRQ 125.2     \",\n",
    "    \"towerBeaconCode\": \"7737\",\n",
    "    \"version_created_at\": \"2025-05-10T15:11:32.611000\"\n",
    "}\n",
    "jms_FDPS_base = {\n",
    "    \"flightID\": \"UAL2075\",\n",
    "    \"timestamp\": \"2025-05-10T15:51:23.088000\",\n",
    "    \"organization\": \"UAL\",\n",
    "    \"aircraftType\": \"A320\",\n",
    "    \"registration\": \"N445UA\",\n",
    "    \"departure\": \"KLAX\",\n",
    "    \"arrival\": \"KSFO\",\n",
    "    \"route\": \"KLAX.SUMMR2.STOKD..SERFR.SERFR4.KSFO/1646\",\n",
    "    \"assignedAltitude\": \"28000.0\",\n",
    "    \"currentBeacon\": \"7737\",\n",
    "    \"version_created_at\": \"2025-05-10T15:52:10.527000\"\n",
    "}\n",
    "\n",
    "for a,b in bulk_flight_deets.items():\n",
    "    if 'flightStats' in a:\n",
    "        flightStatsMock[a]=b\n",
    "        # bulk_flight_deets.pop(a)\n",
    "        # print(a,b)\n",
    "    elif 'flightView' in a:\n",
    "        flightViewMock[a] =b\n",
    "    elif a in jms_STDDS_clearance.keys():\n",
    "        #  print(a,b)\n",
    "        pass\n",
    "    elif a in jms_FDPS_base.keys():\n",
    "        pass\n",
    "    else:\n",
    "        newbfd[a]=b\n",
    "newbfd\n"
   ]
  },
  {
   "cell_type": "code",
   "execution_count": null,
   "id": "ff8710c0",
   "metadata": {},
   "outputs": [
    {
     "data": {
      "text/plain": [
       "{'towerAircraftID': 'UAL2480',\n",
       " 'timestamp': '2025-05-10T15:51:23.088000',\n",
       " 'destinationAirport': 'KSFO',\n",
       " 'clearance': '003 UAL2480\\t7737\\tKLAX A320/L\\tP1540 239\\t280 KLAX SUMMR2 STOKD SERFR SERFR4 KSFO             CLEARED SUMMR2 DEPARTURE STOKD TRSN   CLB VIA SID EXC MAINT 5000FT EXP 280 5 MIN AFT DP,DPFRQ 125.2     ',\n",
       " 'towerBeaconCode': '7737',\n",
       " 'version_created_at': '2025-05-10T15:52:10.527000',\n",
       " 'flightID': 'UAL2075',\n",
       " 'organization': 'UAL',\n",
       " 'aircraftType': 'A320',\n",
       " 'registration': 'N445UA',\n",
       " 'departure': 'KLAX',\n",
       " 'arrival': 'KSFO',\n",
       " 'route': 'KLAX.SUMMR2.STOKD..SERFR.SERFR4.KSFO/1646',\n",
       " 'assignedAltitude': '28000.0',\n",
       " 'currentBeacon': '7737',\n",
       " 'flightStatsDestination': 'KIAH',\n",
       " 'flightStatsFlightID': 'UA492',\n",
       " 'flightStatsOrigin': 'KEWR',\n",
       " 'flightStatsScheduledArrivalTime': '08:31 CDT',\n",
       " 'flightStatsScheduledDepartureTime': '05:30 EDT',\n",
       " 'flightViewArrivalGate': '\\nD - D1A\\n',\n",
       " 'flightViewDeparture': 'EWR',\n",
       " 'flightViewDepartureGate': '\\nC - C103\\n',\n",
       " 'flightViewDestination': 'IAH',\n",
       " 'fa_ident_icao': 'GJS4558',\n",
       " 'fa_origin': 'KGSO',\n",
       " 'fa_destination': 'KEWR',\n",
       " 'fa_registration': 'N551GJ',\n",
       " 'fa_date_out': '20250606',\n",
       " 'fa_scheduled_out': '1530Z',\n",
       " 'fa_estimated_out': '1530Z',\n",
       " 'fa_scheduled_in': '1721Z',\n",
       " 'fa_estimated_in': '1655Z',\n",
       " 'fa_terminal_origin': None,\n",
       " 'fa_terminal_destination': 'C',\n",
       " 'fa_gate_origin': None,\n",
       " 'fa_gate_destination': None,\n",
       " 'fa_filed_altitude': 'FL350',\n",
       " 'fa_filed_ete': 4200,\n",
       " 'fa_route': 'QUAK8 SBV CREWE QUART PHLBO4',\n",
       " 'fa_sv': 'https://skyvector.com/?fpl=%20KGSO%20QUAK8%20SBV%20CREWE%20QUART%20PHLBO4%20KEWR',\n",
       " 'dep_weather': {'datis': 'DEN ARR INFO L 1953Z. 27025G33KT 10SM FEW080 SCT130 SCT200 01/M19 A2955 (TWO NINER FIVE FIVE) RMK AO2 PK WND 29040/1933 SLP040. LLWS ADZYS IN EFCT. HAZUS WX INFO FOR CO, KS, NE, WY AVBL FM FLT SVC. PIREP 30 SW DEN, 2005Z B58T RPRTD MDT-SVR, TB, BTN 14THSD AND 10 THSD DURD. PIREP DEN AREA,, 1929Z PC24 RPRTD MDT, TB, BTN AND FL 190 DURD. EXPC ILS, RNAV, OR VISUAL APCH, SIMUL APCHS IN USE, RWY 25, RWY 26. NOTICE TO AIR MISSION. S C DEICE PAD CLOSED. DEN DME OTS. BIRD ACTIVITY VICINITY ARPT. ...ADVS YOU HAVE INFO L.',\n",
       "  'metar': 'KDEN 012054Z 16004KT 1/2SM R05L/P6000FT BR OVC004 08/08 A2978 RMK AO2 SFC VIS 3 SLP085 T00830078 56006',\n",
       "  'taf': 'KRIC 022355Z 0300/0324 00000KT 2SM BR VCSH FEW015 OVC060 TEMPO 0300/0303 1 1/2SM FG BKN015\\n    FM030300 00000KT 1SM -SHRA FG OVC002\\n    FM031300 19005KT 3/4SM BR OVC004\\n    FM031500 23008KT 1/26SM OVC005\\n    FM031800 25010KT 1/4SM OVC015\\n    FM032100 25010KT M1/4SM BKN040'},\n",
       " 'dest_weather': {'datis': 'DEN ARR INFO L 1953Z. 27025G33KT 10SM FEW080 SCT130 SCT200 01/M19 A2955 (TWO NINER FIVE FIVE) RMK AO2 PK WND 29040/1933 SLP040. LLWS ADZYS IN EFCT. HAZUS WX INFO FOR CO, KS, NE, WY AVBL FM FLT SVC. PIREP 30 SW DEN, 2005Z B58T RPRTD MDT-SVR, TB, BTN 14THSD AND 10 THSD DURD. PIREP DEN AREA,, 1929Z PC24 RPRTD MDT, TB, BTN AND FL 190 DURD. EXPC ILS, RNAV, OR VISUAL APCH, SIMUL APCHS IN USE, RWY 25, RWY 26. NOTICE TO AIR MISSION. S C DEICE PAD CLOSED. DEN DME OTS. BIRD ACTIVITY VICINITY ARPT. ...ADVS YOU HAVE INFO L.',\n",
       "  'metar': 'KDEN 012054Z 16004KT 1/2SM R05L/P6000FT BR OVC004 08/08 A2978 RMK AO2 SFC VIS 3 SLP085 T00830078 56006',\n",
       "  'taf': 'KRIC 022355Z 0300/0324 00000KT 2SM BR VCSH FEW015 OVC060 TEMPO 0300/0303 1 1/2SM FG BKN015\\n    FM030300 00000KT 1SM -SHRA FG OVC002\\n    FM031300 19005KT 3/4SM BR OVC004\\n    FM031500 23008KT 1/26SM OVC005\\n    FM031800 25010KT 1/4SM OVC015\\n    FM032100 25010KT M1/4SM BKN040'},\n",
       " 'nas_departure_affected': {'Ground Delay': {'Departure': 'KDEN',\n",
       "   'Reason': 'thunderstorms',\n",
       "   'Average Delay': '48 minutes',\n",
       "   'Maximum Delay': '1 hour and 46 minutes'}},\n",
       " 'nas_destination_affected': {'Ground Delay': {'Departure': 'KDEN',\n",
       "   'Reason': 'thunderstorms',\n",
       "   'Average Delay': '48 minutes',\n",
       "   'Maximum Delay': '1 hour and 46 minutes'}}}"
      ]
     },
     "execution_count": 2,
     "metadata": {},
     "output_type": "execute_result"
    }
   ],
   "source": [
    "from routes.root.tests.mock_test_data import Mock_data\n",
    "\n",
    "\n",
    "md = Mock_data()\n",
    "md.flight_data(html_injected_weather=False)"
   ]
  },
  {
   "cell_type": "code",
   "execution_count": null,
   "id": "d7efb198",
   "metadata": {},
   "outputs": [],
   "source": [
    "# Changing weather key names from upper case to lower for weathers.\n",
    "bulk_flight_deets['dep_weather'] = {\n",
    "\"datis\": bulk_flight_deets['dep_weather']['D-ATIS'],\n",
    "\"metar\": bulk_flight_deets['dep_weather']['METAR'],\n",
    "\"taf\": bulk_flight_deets['dep_weather']['TAF'],}\n",
    "\n",
    "# Introducing/interjecting html code within weather.\n",
    "weather = Weather_parse()\n",
    "bulk_flight_deets['dep_weather'] = weather.processed_weather(\n",
    "    mock_test_data=bulk_flight_deets['dep_weather'])\n",
    "\n",
    "# Just mocking/copying departure weather into destination as well \n",
    "bulk_flight_deets['dest_weather'] = bulk_flight_deets['dep_weather']\n",
    "\n",
    "return bulk_flight_deets\n",
    "\n",
    "# IFR and LIFR weather for departure and destination.\n",
    "ind = path_to_be_used + r\"raw_weather_dummy_dataKIND.pkl\"\n",
    "ord = path_to_be_used + r\"raw_weather_dummy_dataKORD.pkl\"\n",
    "with open(ind, 'rb') as f:\n",
    "    dep_weather = pickle.load(f)\n",
    "with open(ord, 'rb') as f:\n",
    "    dest_weather = pickle.load(f)\n",
    "\n",
    "# Injesting the html/css for highlighting here.\n",
    "weather = Weather_parse()\n",
    "bulk_flight_deets['dep_weather'] = weather.processed_weather(\n",
    "    dummy=dep_weather)\n",
    "weather = Weather_parse()\n",
    "bulk_flight_deets['dest_weather'] = weather.processed_weather(\n",
    "    dummy=dest_weather)\n",
    "\n",
    "\n",
    "data_return = pickle_imports_and_processing()\n",
    "return data_return\n",
    "\n"
   ]
  },
  {
   "cell_type": "code",
   "execution_count": 1,
   "id": "db2a5265",
   "metadata": {},
   "outputs": [
    {
     "name": "stderr",
     "output_type": "stream",
     "text": [
      "c:\\Users\\ujasv\\OneDrive\\Desktop\\base\\cirrostrats-backend\\venv\\Lib\\site-packages\\fuzzywuzzy\\fuzz.py:11: UserWarning: Using slow pure-python SequenceMatcher. Install python-Levenshtein to remove this warning\n",
      "  warnings.warn('Using slow pure-python SequenceMatcher. Install python-Levenshtein to remove this warning')\n"
     ]
    }
   ],
   "source": [
    "from routes.route import get_search_suggestions\n",
    "\n",
    "\n",
    "# x = await get_search_suggestions(email='', query='pa', limit=1000)\n"
   ]
  },
  {
   "cell_type": "code",
   "execution_count": null,
   "id": "56743224",
   "metadata": {},
   "outputs": [],
   "source": []
  },
  {
   "cell_type": "code",
   "execution_count": 5,
   "id": "b2c1f7fd",
   "metadata": {},
   "outputs": [
    {
     "name": "stdout",
     "output_type": "stream",
     "text": [
      "['ab', 'ac', 'ad', 'ae', 'bc', 'bd', 'be', 'cd', 'ce', 'de']\n",
      "Total combinations: 10 Total permut: 20\n"
     ]
    }
   ],
   "source": [
    "import itertools\n",
    "import string\n",
    "\n",
    "# Generate all combinations of length 2\n",
    "alphabets = string.ascii_lowercase[:5]\n",
    "combinations = [''.join(c) for c in itertools.combinations(alphabets, 2)]\n",
    "permutations = [''.join(p) for p in itertools.permutations(alphabets, 2)]\n",
    "\n",
    "print(combinations)\n",
    "print(f\"Total combinations: {len(combinations)}\", f\"Total permut: {len(permutations)}\")"
   ]
  },
  {
   "cell_type": "code",
   "execution_count": null,
   "id": "0f18366d",
   "metadata": {},
   "outputs": [],
   "source": [
    "mts = MockTestSubmits()\n",
    "# mts.update_operations(mdb_set=False)\n",
    "# mts.update_submits(mdb_set=False)\n"
   ]
  },
  {
   "cell_type": "code",
   "execution_count": 53,
   "id": "ee1cba0f",
   "metadata": {},
   "outputs": [
    {
     "data": {
      "text/plain": [
       "UpdateResult({'n': 1, 'electionId': ObjectId('7fffffff00000000000001c0'), 'opTime': {'ts': Timestamp(1747987089, 18), 't': 448}, 'nModified': 1, 'ok': 1.0, '$clusterTime': {'clusterTime': Timestamp(1747987089, 18), 'signature': {'hash': b'\\t^\\xce\\x93pp\\x7f\\x1b\\x90\\xd2\\x8b\\xf9\\x9f6\\x19O\\x11\\xec\\xb9O', 'keyId': 7460207444094877709}}, 'operationTime': Timestamp(1747987089, 18), 'updatedExisting': True}, acknowledged=True)"
      ]
     },
     "execution_count": 53,
     "metadata": {},
     "output_type": "execute_result"
    }
   ],
   "source": [
    "ctrs = db_UJ['test_rst']   # create/get a collection\n",
    "submitTerm = \"asdf\"\n",
    "timestamp = datetime.now()  # Get current date and time\n",
    "ctrs.update_one(\n",
    "    {\"rst\": submitTerm},\n",
    "    {\"$push\": {\"submits\": timestamp}},\n",
    "    upsert=True\n",
    ")"
   ]
  },
  {
   "cell_type": "code",
   "execution_count": null,
   "id": "37b734e8",
   "metadata": {},
   "outputs": [
    {
     "data": {
      "text/plain": [
       "DeleteResult({'n': 3, 'electionId': ObjectId('7fffffff00000000000001c0'), 'opTime': {'ts': Timestamp(1747992429, 3), 't': 448}, 'ok': 1.0, '$clusterTime': {'clusterTime': Timestamp(1747992429, 3), 'signature': {'hash': b'w\\xf4\\x98J\\xde\\xba\\x98Hso\\xa8-EN7m\\x95.\\x12`', 'keyId': 7460207444094877709}}, 'operationTime': Timestamp(1747992429, 3)}, acknowledged=True)"
      ]
     },
     "execution_count": 85,
     "metadata": {},
     "output_type": "execute_result"
    }
   ],
   "source": [
    "# list(ctrs.find({}).limit(5))\n",
    "# ctrs.delete_many({})"
   ]
  },
  {
   "cell_type": "code",
   "execution_count": null,
   "id": "64253838",
   "metadata": {},
   "outputs": [],
   "source": [
    "a = ctrs.aggregate([\n",
    "    { \"$match\": { \"submits\": { \"$exists\": True} } },\n",
    "    { \"$unwind\": \"$submits\" },\n",
    "    { \"$project\": {\n",
    "        \"_id\": 0,\n",
    "        \"rst\": 1,\n",
    "        \"timestamp\": \"$submits\"\n",
    "    }}\n",
    "])\n",
    "# list(a)\n",
    "ctrs.find_one({})\n"
   ]
  },
  {
   "cell_type": "code",
   "execution_count": null,
   "id": "bf5be025",
   "metadata": {},
   "outputs": [],
   "source": [
    "cts_returns =  list(mts.cts.aggregate([\n",
    "        { \"$match\": { \"submits\": { \"$exists\": True} } },\n",
    "        { \"$unwind\": \"$submits\" },\n",
    "        { \"$addFields\": { \"timestamp\": \"$submits\" } },\n",
    "        { \"$unset\": [\"_id\", \"r_id\", \"ph\", \"submits\"] }\n",
    "    ]))"
   ]
  },
  {
   "cell_type": "code",
   "execution_count": null,
   "id": "585aa0c4",
   "metadata": {},
   "outputs": [],
   "source": [
    "list(mts.cts.find({\"submits\": {\"$exists\": True}}))"
   ]
  }
 ],
 "metadata": {
  "kernelspec": {
   "display_name": "venv",
   "language": "python",
   "name": "python3"
  },
  "language_info": {
   "codemirror_mode": {
    "name": "ipython",
    "version": 3
   },
   "file_extension": ".py",
   "mimetype": "text/x-python",
   "name": "python",
   "nbconvert_exporter": "python",
   "pygments_lexer": "ipython3",
   "version": "3.11.9"
  }
 },
 "nbformat": 4,
 "nbformat_minor": 5
}
