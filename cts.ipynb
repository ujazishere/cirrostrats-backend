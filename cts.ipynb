{
 "cells": [
  {
   "cell_type": "code",
   "execution_count": null,
   "id": "2a96d878",
   "metadata": {},
   "outputs": [],
   "source": [
    "# Mechanism to mock test submits in MongoDB with random dates.\n",
    "from bson import ObjectId\n",
    "from config.database import db_UJ        # UJ mongoDB\n",
    "from datetime import datetime, timedelta\n",
    "from pymongo import UpdateOne\n",
    "import random\n",
    "\n",
    "class MockTestSubmits:\n",
    "    def __init__(self):\n",
    "        self.cts = db_UJ['test_st']\n",
    "\n",
    "    def random_date_gen(self, simplify=False, total_dates=5):\n",
    "        def df(dt):\n",
    "            return dt.strftime(\"%m-%d\")\n",
    "\n",
    "        now = datetime.now()  # Get current date and time\n",
    "        dates = []\n",
    "\n",
    "        # Generate dates for the last 3 days (today and the two previous days)\n",
    "        for i in range(3):\n",
    "            date = now - timedelta(days=i)\n",
    "            dates.append(date)\n",
    "\n",
    "        # Randomly select 5 items from these dates (with replacement)\n",
    "        random_items = random.choices(dates, k=random.randint(1, total_dates))\n",
    "        # If simplify is True, format the dates\n",
    "        if simplify:\n",
    "            # Format the dates using your df function\n",
    "            formatted_items = [df(item) for item in random_items]\n",
    "            return formatted_items    \n",
    "        else:\n",
    "            return random_items\n",
    "        # Format the dates using your df function\n",
    "        # formatted_items = [df(item) for item in random_items]\n",
    "        # return formatted_items\n",
    "\n",
    "    def update_operations(self,mdb_set):\n",
    "        cts = db_UJ['test_st']   # create/get a collection\n",
    "        doc_ids = list(cts.find({},{\"_id\":1}))       # Get limited test document IDs\n",
    "        update_operation = []\n",
    "        for i in doc_ids:\n",
    "            juice = {'submits':self.random_date_gen(simplify=False, total_dates=15)}\n",
    "            # Use this to remove all the submits fields\n",
    "            # Use this to simulate setting the new submits field with mock timestamps\n",
    "            set_ops = {'$set': juice} if mdb_set else {'$unset': {'submits': ''}}\n",
    "            update_operation.append(\n",
    "                UpdateOne(\n",
    "                {\"_id\": ObjectId(i['_id'])},\n",
    "                set_ops\n",
    "            ))\n",
    "        return update_operation\n",
    "\n",
    "    def update_submits(self, mdb_set):\n",
    "        self.cts.bulk_write(self.update_operations(mdb_set=mdb_set))\n",
    "\n",
    "    def check_transformed_submits(self):\n",
    "        original = list(self.cts.find({'submits': {'$exists': True}},{\"_id\":0,\"ph\":0,\"r_id\":0}))\n",
    "        transformed = [{v1: v2} for d in original for v1, v2 in zip(d.values(), list(d.values())[1:])]\n",
    "        return transformed"
   ]
  },
  {
   "cell_type": "code",
   "execution_count": null,
   "id": "0f18366d",
   "metadata": {},
   "outputs": [],
   "source": [
    "mts = MockTestSubmits()\n",
    "# mts.update_operations(mdb_set=False)\n",
    "# mts.update_submits(mdb_set=False)\n"
   ]
  },
  {
   "cell_type": "code",
   "execution_count": 53,
   "id": "ee1cba0f",
   "metadata": {},
   "outputs": [
    {
     "data": {
      "text/plain": [
       "UpdateResult({'n': 1, 'electionId': ObjectId('7fffffff00000000000001c0'), 'opTime': {'ts': Timestamp(1747987089, 18), 't': 448}, 'nModified': 1, 'ok': 1.0, '$clusterTime': {'clusterTime': Timestamp(1747987089, 18), 'signature': {'hash': b'\\t^\\xce\\x93pp\\x7f\\x1b\\x90\\xd2\\x8b\\xf9\\x9f6\\x19O\\x11\\xec\\xb9O', 'keyId': 7460207444094877709}}, 'operationTime': Timestamp(1747987089, 18), 'updatedExisting': True}, acknowledged=True)"
      ]
     },
     "execution_count": 53,
     "metadata": {},
     "output_type": "execute_result"
    }
   ],
   "source": [
    "ctrs = db_UJ['test_rst']   # create/get a collection\n",
    "submitTerm = \"asdf\"\n",
    "timestamp = datetime.now()  # Get current date and time\n",
    "ctrs.update_one(\n",
    "    {\"rst\": submitTerm},\n",
    "    {\"$push\": {\"submits\": timestamp}},\n",
    "    upsert=True\n",
    ")"
   ]
  },
  {
   "cell_type": "code",
   "execution_count": null,
   "id": "37b734e8",
   "metadata": {},
   "outputs": [
    {
     "data": {
      "text/plain": [
       "DeleteResult({'n': 3, 'electionId': ObjectId('7fffffff00000000000001c0'), 'opTime': {'ts': Timestamp(1747992429, 3), 't': 448}, 'ok': 1.0, '$clusterTime': {'clusterTime': Timestamp(1747992429, 3), 'signature': {'hash': b'w\\xf4\\x98J\\xde\\xba\\x98Hso\\xa8-EN7m\\x95.\\x12`', 'keyId': 7460207444094877709}}, 'operationTime': Timestamp(1747992429, 3)}, acknowledged=True)"
      ]
     },
     "execution_count": 85,
     "metadata": {},
     "output_type": "execute_result"
    }
   ],
   "source": [
    "# list(ctrs.find({}).limit(5))\n",
    "# ctrs.delete_many({})"
   ]
  },
  {
   "cell_type": "code",
   "execution_count": null,
   "id": "64253838",
   "metadata": {},
   "outputs": [],
   "source": [
    "a = ctrs.aggregate([\n",
    "    { \"$match\": { \"submits\": { \"$exists\": True} } },\n",
    "    { \"$unwind\": \"$submits\" },\n",
    "    { \"$project\": {\n",
    "        \"_id\": 0,\n",
    "        \"rst\": 1,\n",
    "        \"timestamp\": \"$submits\"\n",
    "    }}\n",
    "])\n",
    "# list(a)\n",
    "ctrs.find_one({})\n"
   ]
  },
  {
   "cell_type": "code",
   "execution_count": null,
   "id": "bf5be025",
   "metadata": {},
   "outputs": [],
   "source": [
    "cts_returns =  list(mts.cts.aggregate([\n",
    "        { \"$match\": { \"submits\": { \"$exists\": True} } },\n",
    "        { \"$unwind\": \"$submits\" },\n",
    "        { \"$addFields\": { \"timestamp\": \"$submits\" } },\n",
    "        { \"$unset\": [\"_id\", \"r_id\", \"ph\", \"submits\"] }\n",
    "    ]))"
   ]
  },
  {
   "cell_type": "code",
   "execution_count": null,
   "id": "585aa0c4",
   "metadata": {},
   "outputs": [],
   "source": [
    "list(mts.cts.find({\"submits\": {\"$exists\": True}}))"
   ]
  }
 ],
 "metadata": {
  "kernelspec": {
   "display_name": "venv",
   "language": "python",
   "name": "python3"
  },
  "language_info": {
   "codemirror_mode": {
    "name": "ipython",
    "version": 3
   },
   "file_extension": ".py",
   "mimetype": "text/x-python",
   "name": "python",
   "nbconvert_exporter": "python",
   "pygments_lexer": "ipython3",
   "version": "3.11.9"
  }
 },
 "nbformat": 4,
 "nbformat_minor": 5
}
