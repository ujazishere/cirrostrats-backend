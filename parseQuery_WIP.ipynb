{
 "cells": [
  {
   "cell_type": "code",
   "execution_count": null,
   "metadata": {},
   "outputs": [
    {
     "name": "stdout",
     "output_type": "stream",
     "text": [
      "No match\n"
     ]
    }
   ],
   "source": [
    "\n",
    "# parsequery work in progress\n",
    "import re\n",
    "\n",
    "\n",
    "query = '144'\n",
    "flight_pattern = re.compile(r'^(UAL|UA|GJS)(\\d+)$')\n",
    "# TODO: find a better way to handle this. Maybe regex. Need a system that classifies the query and assigns it a dedicated function like flight_deet or gate query.\n",
    "# Accounting for flight number query with leading alphabets\n",
    "match = flight_pattern.fullmatch(query)\n",
    "if match:\n",
    "    airline_code, flt_digits = match.groups()\n",
    "    print('\\nSearching for:', airline_code, flt_digits)\n",
    "    x = {'airlineCode': airline_code, 'fightNumber': flt_digits, 'type': 'flightNumber'}\n",
    "    print(x)\n",
    "else:\n",
    "    print('No match')"
   ]
  },
  {
   "cell_type": "code",
   "execution_count": null,
   "metadata": {},
   "outputs": [
    {
     "name": "stdout",
     "output_type": "stream",
     "text": [
      "No match\n"
     ]
    }
   ],
   "source": [
    "query = '101'\n",
    "gate_pattern = re.compile(r'(\\d)|([0-9])')\n",
    "match = gate_pattern.fullmatch(query)\n",
    "if match:\n",
    "    terminal, num = match.groups()\n",
    "    print('\\nSearching for:', terminal, num)\n",
    "    x = {'terminal': terminal, 'gate': num, 'type': 'gate'}\n",
    "    print(x)\n",
    "else:\n",
    "    print('No match')\n"
   ]
  },
  {
   "cell_type": "code",
   "execution_count": null,
   "metadata": {},
   "outputs": [
    {
     "ename": "ParseError",
     "evalue": "junk after document element: line 52, column 0 (<string>)",
     "output_type": "error",
     "traceback": [
      "Traceback \u001b[1;36m(most recent call last)\u001b[0m:\n",
      "\u001b[0m  File \u001b[0;32mc:\\Users\\ujasv\\OneDrive\\Desktop\\base\\cirrostrats-backend\\venv\\Lib\\site-packages\\IPython\\core\\interactiveshell.py:3577\u001b[0m in \u001b[0;35mrun_code\u001b[0m\n    exec(code_obj, self.user_global_ns, self.user_ns)\u001b[0m\n",
      "\u001b[0m  Cell \u001b[0;32mIn[8], line 10\u001b[0m\n    for event, elem in context:\u001b[0m\n",
      "\u001b[0m  File \u001b[0;32mC:\\Program Files\\WindowsApps\\PythonSoftwareFoundation.Python.3.11_3.11.2544.0_x64__qbz5n2kfra8p0\\Lib\\xml\\etree\\ElementTree.py:1251\u001b[0m in \u001b[0;35miterator\u001b[0m\n    yield from pullparser.read_events()\u001b[0m\n",
      "\u001b[0m  File \u001b[0;32mC:\\Program Files\\WindowsApps\\PythonSoftwareFoundation.Python.3.11_3.11.2544.0_x64__qbz5n2kfra8p0\\Lib\\xml\\etree\\ElementTree.py:1327\u001b[0m in \u001b[0;35mread_events\u001b[0m\n    raise event\u001b[0m\n",
      "\u001b[1;36m  File \u001b[1;32mC:\\Program Files\\WindowsApps\\PythonSoftwareFoundation.Python.3.11_3.11.2544.0_x64__qbz5n2kfra8p0\\Lib\\xml\\etree\\ElementTree.py:1299\u001b[1;36m in \u001b[1;35mfeed\u001b[1;36m\n\u001b[1;33m    self._parser.feed(data)\u001b[1;36m\n",
      "\u001b[1;36m  File \u001b[1;32m<string>\u001b[1;36m\u001b[0m\n\u001b[1;31mParseError\u001b[0m\u001b[1;31m:\u001b[0m junk after document element: line 52, column 0\n"
     ]
    }
   ],
   "source": []
  },
  {
   "cell_type": "code",
   "execution_count": null,
   "metadata": {},
   "outputs": [],
   "source": []
  }
 ],
 "metadata": {
  "kernelspec": {
   "display_name": "venv",
   "language": "python",
   "name": "python3"
  },
  "language_info": {
   "codemirror_mode": {
    "name": "ipython",
    "version": 3
   },
   "file_extension": ".py",
   "mimetype": "text/x-python",
   "name": "python",
   "nbconvert_exporter": "python",
   "pygments_lexer": "ipython3",
   "version": "3.11.9"
  }
 },
 "nbformat": 4,
 "nbformat_minor": 2
}
