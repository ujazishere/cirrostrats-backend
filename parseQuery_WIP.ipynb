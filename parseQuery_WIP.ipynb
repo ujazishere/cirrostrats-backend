{
 "cells": [
  {
   "cell_type": "code",
   "execution_count": null,
   "metadata": {},
   "outputs": [
    {
     "name": "stdout",
     "output_type": "stream",
     "text": [
      "No match\n"
     ]
    }
   ],
   "source": [
    "\n",
    "# parsequery work in progress\n",
    "import re\n",
    "\n",
    "\n",
    "query = '144'\n",
    "flight_pattern = re.compile(r'^(UAL|UA|GJS)(\\d+)$')\n",
    "# TODO: find a better way to handle this. Maybe regex. Need a system that classifies the query and assigns it a dedicated function like flight_deet or gate query.\n",
    "# Accounting for flight number query with leading alphabets\n",
    "match = flight_pattern.fullmatch(query)\n",
    "if match:\n",
    "    airline_code, flt_digits = match.groups()\n",
    "    print('\\nSearching for:', airline_code, flt_digits)\n",
    "    x = {'airlineCode': airline_code, 'fightNumber': flt_digits, 'type': 'flightNumber'}\n",
    "    print(x)\n",
    "else:\n",
    "    print('No match')"
   ]
  },
  {
   "cell_type": "code",
   "execution_count": null,
   "metadata": {},
   "outputs": [
    {
     "name": "stdout",
     "output_type": "stream",
     "text": [
      "No match\n"
     ]
    }
   ],
   "source": [
    "query = '101'\n",
    "gate_pattern = re.compile(r'(\\d)|([0-9])')\n",
    "match = gate_pattern.fullmatch(query)\n",
    "if match:\n",
    "    terminal, num = match.groups()\n",
    "    print('\\nSearching for:', terminal, num)\n",
    "    x = {'terminal': terminal, 'gate': num, 'type': 'gate'}\n",
    "    print(x)\n",
    "else:\n",
    "    print('No match')\n"
   ]
  }
 ],
 "metadata": {
  "kernelspec": {
   "display_name": "venv",
   "language": "python",
   "name": "python3"
  },
  "language_info": {
   "codemirror_mode": {
    "name": "ipython",
    "version": 3
   },
   "file_extension": ".py",
   "mimetype": "text/x-python",
   "name": "python",
   "nbconvert_exporter": "python",
   "pygments_lexer": "ipython3",
   "version": "3.11.9"
  }
 },
 "nbformat": 4,
 "nbformat_minor": 2
}
