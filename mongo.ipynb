{
 "cells": [
  {
   "cell_type": "code",
   "execution_count": 4,
   "metadata": {},
   "outputs": [
    {
     "data": {
      "text/plain": [
       "[]"
      ]
     },
     "execution_count": 4,
     "metadata": {},
     "output_type": "execute_result"
    }
   ],
   "source": [
    "\n",
    "from config.database import collection, collection_weather, collection_searchTrack\n",
    "from routes.root.root_class import Root_class, Fetching_Mechanism, Source_links_and_api, Root_source_links\n",
    "from bson import ObjectId\n",
    "import requests\n",
    "import datetime as dt\n",
    "import json\n",
    "import pickle\n",
    "from pymongo import UpdateOne\n",
    "\n",
    "\n",
    "# get synopsis of the collection:\n",
    "x = [i for i in collection_searchTrack.find({})]\n",
    "\n",
    "# x = collection_searchTrack.delete_many({})\n",
    "x\n",
    "\n",
    "# [i for i in collection_searchTrack.find_one({})]"
   ]
  },
  {
   "cell_type": "code",
   "execution_count": 13,
   "metadata": {},
   "outputs": [
    {
     "name": "stdout",
     "output_type": "stream",
     "text": [
      "{'status': 'success', 'matched_count': 0, 'modified_count': 0}\n",
      "{'status': 'success', 'matched_count': 1, 'modified_count': 1}\n",
      "{'status': 'success', 'matched_count': 1, 'modified_count': 1}\n",
      "{'status': 'success', 'matched_count': 0, 'modified_count': 0}\n",
      "{'status': 'success', 'matched_count': 1, 'modified_count': 1}\n",
      "{'status': 'success', 'matched_count': 1, 'modified_count': 1}\n",
      "{'status': 'success', 'matched_count': 1, 'modified_count': 1}\n",
      "{'status': 'success', 'matched_count': 1, 'modified_count': 1}\n",
      "{'status': 'success', 'matched_count': 1, 'modified_count': 1}\n",
      "{'status': 'success', 'matched_count': 1, 'modified_count': 1}\n",
      "{'status': 'success', 'matched_count': 1, 'modified_count': 1}\n",
      "{'status': 'success', 'matched_count': 1, 'modified_count': 1}\n",
      "{'status': 'success', 'matched_count': 1, 'modified_count': 1}\n",
      "{'status': 'success', 'matched_count': 1, 'modified_count': 1}\n",
      "{'status': 'success', 'matched_count': 1, 'modified_count': 1}\n",
      "{'status': 'success', 'matched_count': 1, 'modified_count': 1}\n",
      "{'status': 'success', 'matched_count': 1, 'modified_count': 1}\n",
      "{'status': 'success', 'matched_count': 1, 'modified_count': 1}\n",
      "{'status': 'success', 'matched_count': 1, 'modified_count': 1}\n",
      "{'status': 'success', 'matched_count': 1, 'modified_count': 1}\n",
      "{'status': 'success', 'matched_count': 1, 'modified_count': 1}\n",
      "{'status': 'success', 'matched_count': 1, 'modified_count': 1}\n",
      "{'status': 'success', 'matched_count': 1, 'modified_count': 1}\n",
      "{'status': 'success', 'matched_count': 1, 'modified_count': 1}\n",
      "{'status': 'success', 'matched_count': 1, 'modified_count': 1}\n",
      "{'status': 'success', 'matched_count': 1, 'modified_count': 1}\n",
      "{'status': 'success', 'matched_count': 1, 'modified_count': 1}\n"
     ]
    }
   ],
   "source": [
    "x[0]\n",
    "for data in x:\n",
    "\n",
    "    update_query = {\n",
    "        \"$setOnInsert\": {\"email\": data['email']},  # Only set email on document creation\n",
    "        \"$inc\": {f\"searches.{data['searchTerm']}\": 1},  # Increment count for this search term\n",
    "        \"$set\": {\"lastUpdated\": data['timestamp']}  # Update timestamp\n",
    "    }\n",
    "    # This single operation will:\n",
    "    # 1. Create document if email doesn't exist\n",
    "    # 2. Create searchTerm with count 1 if it doesn't exist\n",
    "    # 3. Increment count if searchTerm exists\n",
    "    result = collection_searchTrack.update_one(\n",
    "        {\"email\": data['email']},\n",
    "        update_query,\n",
    "        upsert=True\n",
    "    )\n",
    "\n",
    "    print({\"status\": \"success\", \"matched_count\": result.matched_count, \"modified_count\": result.modified_count})"
   ]
  },
  {
   "cell_type": "code",
   "execution_count": 14,
   "metadata": {},
   "outputs": [
    {
     "data": {
      "text/plain": [
       "[{'_id': ObjectId('67ab9648f07a4d921a95d37e'),\n",
       "  'email': 'ujasvaghani@gmail.com',\n",
       "  'lastUpdated': datetime.datetime(2025, 2, 11, 7, 27, 5, 798000),\n",
       "  'searches': {'newa': 3,\n",
       "   'jfk': 1,\n",
       "   '4433': 1,\n",
       "   '443': 1,\n",
       "   'n': 2,\n",
       "   'newar': 3,\n",
       "   'newark': 2,\n",
       "   'me': 1,\n",
       "   'new': 1,\n",
       "   'Newark ': 1,\n",
       "   'Newark Liberty International Airport (EWR)': 1,\n",
       "   'Newark Liberty International Airport (EWR) ': 1}},\n",
       " {'_id': ObjectId('67ab9648f07a4d921a95d37f'),\n",
       "  'email': 'ismailsakhani879@gmail.com',\n",
       "  'lastUpdated': datetime.datetime(2025, 2, 10, 14, 36, 0, 784000),\n",
       "  'searches': {'new york': 1,\n",
       "   'New York Stewart International Airport (SWF)': 1,\n",
       "   '414': 7}}]"
      ]
     },
     "execution_count": 14,
     "metadata": {},
     "output_type": "execute_result"
    }
   ],
   "source": [
    "\n",
    "y = [i for i in collection_searchTrack.find({})]\n",
    "y"
   ]
  }
 ],
 "metadata": {
  "kernelspec": {
   "display_name": "venv",
   "language": "python",
   "name": "python3"
  },
  "language_info": {
   "codemirror_mode": {
    "name": "ipython",
    "version": 3
   },
   "file_extension": ".py",
   "mimetype": "text/x-python",
   "name": "python",
   "nbconvert_exporter": "python",
   "pygments_lexer": "ipython3",
   "version": "3.11.9"
  }
 },
 "nbformat": 4,
 "nbformat_minor": 2
}
